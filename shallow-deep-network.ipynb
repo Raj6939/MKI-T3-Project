{
 "cells": [
  {
   "cell_type": "markdown",
   "id": "6fb16502",
   "metadata": {
    "papermill": {
     "duration": 0.015799,
     "end_time": "2023-04-13T10:14:02.469395",
     "exception": false,
     "start_time": "2023-04-13T10:14:02.453596",
     "status": "completed"
    },
    "tags": []
   },
   "source": [
    "# Building and training a Neural Network"
   ]
  },
  {
   "cell_type": "code",
   "execution_count": 29,
   "id": "3c1a9e4c",
   "metadata": {
    "papermill": {
     "duration": 0.251467,
     "end_time": "2023-04-13T10:14:02.736803",
     "exception": false,
     "start_time": "2023-04-13T10:14:02.485336",
     "status": "completed"
    },
    "tags": []
   },
   "outputs": [],
   "source": [
    "from sklearn.model_selection import train_test_split\n",
    "from sklearn.preprocessing import MinMaxScaler\n",
    "from sklearn.metrics import accuracy_score"
   ]
  },
  {
   "cell_type": "code",
   "execution_count": 30,
   "id": "e2bd3c3a",
   "metadata": {
    "papermill": {
     "duration": 6.795774,
     "end_time": "2023-04-13T10:14:09.548566",
     "exception": false,
     "start_time": "2023-04-13T10:14:02.752792",
     "status": "completed"
    },
    "tags": []
   },
   "outputs": [],
   "source": [
    "import tensorflow as tf\n",
    "from keras.models import Sequential, Model\n",
    "from keras.layers import Dense, Conv1D, MaxPooling1D, Flatten, Dropout, Input, Concatenate, Add"
   ]
  },
  {
   "cell_type": "code",
   "execution_count": 31,
   "id": "ba270c81",
   "metadata": {
    "papermill": {
     "duration": 0.650545,
     "end_time": "2023-04-13T10:14:10.216448",
     "exception": false,
     "start_time": "2023-04-13T10:14:09.565903",
     "status": "completed"
    },
    "tags": []
   },
   "outputs": [
    {
     "name": "stdout",
     "output_type": "stream",
     "text": [
      "(494021, 31)\n",
      "(330994, 30) (163027, 30)\n",
      "(330994, 1) (163027, 1)\n"
     ]
    }
   ],
   "source": [
    "df = df.drop(['target',], axis=1)\n",
    "print(df.shape)\n",
    "\n",
    "# Target variable and train set\n",
    "Y = df[['Attack Type']]\n",
    "X = df.drop(['Attack Type',], axis=1)\n",
    "\n",
    "sc = MinMaxScaler()\n",
    "X = sc.fit_transform(X)\n",
    "\n",
    "# Split test and train data \n",
    "X_train, X_test, Y_train, Y_test = train_test_split(X, Y, test_size=0.33, random_state=42)\n",
    "print(X_train.shape, X_test.shape)\n",
    "print(Y_train.shape, Y_test.shape)"
   ]
  },
  {
   "cell_type": "code",
   "execution_count": 32,
   "id": "e2a2659e",
   "metadata": {
    "papermill": {
     "duration": 4.173582,
     "end_time": "2023-04-13T10:14:14.407041",
     "exception": false,
     "start_time": "2023-04-13T10:14:10.233459",
     "status": "completed"
    },
    "tags": []
   },
   "outputs": [],
   "source": [
    "df.to_csv(\"ids.csv\", index=False)"
   ]
  },
  {
   "cell_type": "code",
   "execution_count": 33,
   "id": "c231bc31",
   "metadata": {
    "papermill": {
     "duration": 1.488103,
     "end_time": "2023-04-13T10:14:15.912812",
     "exception": false,
     "start_time": "2023-04-13T10:14:14.424709",
     "status": "completed"
    },
    "tags": []
   },
   "outputs": [
    {
     "data": {
      "text/html": [
       "<div>\n",
       "<style scoped>\n",
       "    .dataframe tbody tr th:only-of-type {\n",
       "        vertical-align: middle;\n",
       "    }\n",
       "\n",
       "    .dataframe tbody tr th {\n",
       "        vertical-align: top;\n",
       "    }\n",
       "\n",
       "    .dataframe thead th {\n",
       "        text-align: right;\n",
       "    }\n",
       "</style>\n",
       "<table border=\"1\" class=\"dataframe\">\n",
       "  <thead>\n",
       "    <tr style=\"text-align: right;\">\n",
       "      <th></th>\n",
       "      <th>duration</th>\n",
       "      <th>protocol_type</th>\n",
       "      <th>flag</th>\n",
       "      <th>src_bytes</th>\n",
       "      <th>dst_bytes</th>\n",
       "      <th>land</th>\n",
       "      <th>wrong_fragment</th>\n",
       "      <th>urgent</th>\n",
       "      <th>hot</th>\n",
       "      <th>num_failed_logins</th>\n",
       "      <th>...</th>\n",
       "      <th>rerror_rate</th>\n",
       "      <th>same_srv_rate</th>\n",
       "      <th>diff_srv_rate</th>\n",
       "      <th>srv_diff_host_rate</th>\n",
       "      <th>dst_host_count</th>\n",
       "      <th>dst_host_srv_count</th>\n",
       "      <th>dst_host_diff_srv_rate</th>\n",
       "      <th>dst_host_same_src_port_rate</th>\n",
       "      <th>dst_host_srv_diff_host_rate</th>\n",
       "      <th>Attack Type</th>\n",
       "    </tr>\n",
       "  </thead>\n",
       "  <tbody>\n",
       "    <tr>\n",
       "      <th>0</th>\n",
       "      <td>0</td>\n",
       "      <td>1</td>\n",
       "      <td>9</td>\n",
       "      <td>181</td>\n",
       "      <td>5450</td>\n",
       "      <td>0</td>\n",
       "      <td>0</td>\n",
       "      <td>0</td>\n",
       "      <td>0</td>\n",
       "      <td>0</td>\n",
       "      <td>...</td>\n",
       "      <td>0.0</td>\n",
       "      <td>1.0</td>\n",
       "      <td>0.0</td>\n",
       "      <td>0.00</td>\n",
       "      <td>9</td>\n",
       "      <td>9</td>\n",
       "      <td>0.0</td>\n",
       "      <td>0.11</td>\n",
       "      <td>0.00</td>\n",
       "      <td>1</td>\n",
       "    </tr>\n",
       "    <tr>\n",
       "      <th>1</th>\n",
       "      <td>0</td>\n",
       "      <td>1</td>\n",
       "      <td>9</td>\n",
       "      <td>239</td>\n",
       "      <td>486</td>\n",
       "      <td>0</td>\n",
       "      <td>0</td>\n",
       "      <td>0</td>\n",
       "      <td>0</td>\n",
       "      <td>0</td>\n",
       "      <td>...</td>\n",
       "      <td>0.0</td>\n",
       "      <td>1.0</td>\n",
       "      <td>0.0</td>\n",
       "      <td>0.00</td>\n",
       "      <td>19</td>\n",
       "      <td>19</td>\n",
       "      <td>0.0</td>\n",
       "      <td>0.05</td>\n",
       "      <td>0.00</td>\n",
       "      <td>1</td>\n",
       "    </tr>\n",
       "    <tr>\n",
       "      <th>2</th>\n",
       "      <td>0</td>\n",
       "      <td>1</td>\n",
       "      <td>9</td>\n",
       "      <td>235</td>\n",
       "      <td>1337</td>\n",
       "      <td>0</td>\n",
       "      <td>0</td>\n",
       "      <td>0</td>\n",
       "      <td>0</td>\n",
       "      <td>0</td>\n",
       "      <td>...</td>\n",
       "      <td>0.0</td>\n",
       "      <td>1.0</td>\n",
       "      <td>0.0</td>\n",
       "      <td>0.00</td>\n",
       "      <td>29</td>\n",
       "      <td>29</td>\n",
       "      <td>0.0</td>\n",
       "      <td>0.03</td>\n",
       "      <td>0.00</td>\n",
       "      <td>1</td>\n",
       "    </tr>\n",
       "    <tr>\n",
       "      <th>3</th>\n",
       "      <td>0</td>\n",
       "      <td>1</td>\n",
       "      <td>9</td>\n",
       "      <td>219</td>\n",
       "      <td>1337</td>\n",
       "      <td>0</td>\n",
       "      <td>0</td>\n",
       "      <td>0</td>\n",
       "      <td>0</td>\n",
       "      <td>0</td>\n",
       "      <td>...</td>\n",
       "      <td>0.0</td>\n",
       "      <td>1.0</td>\n",
       "      <td>0.0</td>\n",
       "      <td>0.00</td>\n",
       "      <td>39</td>\n",
       "      <td>39</td>\n",
       "      <td>0.0</td>\n",
       "      <td>0.03</td>\n",
       "      <td>0.00</td>\n",
       "      <td>1</td>\n",
       "    </tr>\n",
       "    <tr>\n",
       "      <th>4</th>\n",
       "      <td>0</td>\n",
       "      <td>1</td>\n",
       "      <td>9</td>\n",
       "      <td>217</td>\n",
       "      <td>2032</td>\n",
       "      <td>0</td>\n",
       "      <td>0</td>\n",
       "      <td>0</td>\n",
       "      <td>0</td>\n",
       "      <td>0</td>\n",
       "      <td>...</td>\n",
       "      <td>0.0</td>\n",
       "      <td>1.0</td>\n",
       "      <td>0.0</td>\n",
       "      <td>0.00</td>\n",
       "      <td>49</td>\n",
       "      <td>49</td>\n",
       "      <td>0.0</td>\n",
       "      <td>0.02</td>\n",
       "      <td>0.00</td>\n",
       "      <td>1</td>\n",
       "    </tr>\n",
       "    <tr>\n",
       "      <th>...</th>\n",
       "      <td>...</td>\n",
       "      <td>...</td>\n",
       "      <td>...</td>\n",
       "      <td>...</td>\n",
       "      <td>...</td>\n",
       "      <td>...</td>\n",
       "      <td>...</td>\n",
       "      <td>...</td>\n",
       "      <td>...</td>\n",
       "      <td>...</td>\n",
       "      <td>...</td>\n",
       "      <td>...</td>\n",
       "      <td>...</td>\n",
       "      <td>...</td>\n",
       "      <td>...</td>\n",
       "      <td>...</td>\n",
       "      <td>...</td>\n",
       "      <td>...</td>\n",
       "      <td>...</td>\n",
       "      <td>...</td>\n",
       "      <td>...</td>\n",
       "    </tr>\n",
       "    <tr>\n",
       "      <th>494016</th>\n",
       "      <td>0</td>\n",
       "      <td>1</td>\n",
       "      <td>9</td>\n",
       "      <td>310</td>\n",
       "      <td>1881</td>\n",
       "      <td>0</td>\n",
       "      <td>0</td>\n",
       "      <td>0</td>\n",
       "      <td>0</td>\n",
       "      <td>0</td>\n",
       "      <td>...</td>\n",
       "      <td>0.0</td>\n",
       "      <td>1.0</td>\n",
       "      <td>0.0</td>\n",
       "      <td>0.40</td>\n",
       "      <td>86</td>\n",
       "      <td>255</td>\n",
       "      <td>0.0</td>\n",
       "      <td>0.01</td>\n",
       "      <td>0.05</td>\n",
       "      <td>1</td>\n",
       "    </tr>\n",
       "    <tr>\n",
       "      <th>494017</th>\n",
       "      <td>0</td>\n",
       "      <td>1</td>\n",
       "      <td>9</td>\n",
       "      <td>282</td>\n",
       "      <td>2286</td>\n",
       "      <td>0</td>\n",
       "      <td>0</td>\n",
       "      <td>0</td>\n",
       "      <td>0</td>\n",
       "      <td>0</td>\n",
       "      <td>...</td>\n",
       "      <td>0.0</td>\n",
       "      <td>1.0</td>\n",
       "      <td>0.0</td>\n",
       "      <td>0.00</td>\n",
       "      <td>6</td>\n",
       "      <td>255</td>\n",
       "      <td>0.0</td>\n",
       "      <td>0.17</td>\n",
       "      <td>0.05</td>\n",
       "      <td>1</td>\n",
       "    </tr>\n",
       "    <tr>\n",
       "      <th>494018</th>\n",
       "      <td>0</td>\n",
       "      <td>1</td>\n",
       "      <td>9</td>\n",
       "      <td>203</td>\n",
       "      <td>1200</td>\n",
       "      <td>0</td>\n",
       "      <td>0</td>\n",
       "      <td>0</td>\n",
       "      <td>0</td>\n",
       "      <td>0</td>\n",
       "      <td>...</td>\n",
       "      <td>0.0</td>\n",
       "      <td>1.0</td>\n",
       "      <td>0.0</td>\n",
       "      <td>0.17</td>\n",
       "      <td>16</td>\n",
       "      <td>255</td>\n",
       "      <td>0.0</td>\n",
       "      <td>0.06</td>\n",
       "      <td>0.05</td>\n",
       "      <td>1</td>\n",
       "    </tr>\n",
       "    <tr>\n",
       "      <th>494019</th>\n",
       "      <td>0</td>\n",
       "      <td>1</td>\n",
       "      <td>9</td>\n",
       "      <td>291</td>\n",
       "      <td>1200</td>\n",
       "      <td>0</td>\n",
       "      <td>0</td>\n",
       "      <td>0</td>\n",
       "      <td>0</td>\n",
       "      <td>0</td>\n",
       "      <td>...</td>\n",
       "      <td>0.0</td>\n",
       "      <td>1.0</td>\n",
       "      <td>0.0</td>\n",
       "      <td>0.17</td>\n",
       "      <td>26</td>\n",
       "      <td>255</td>\n",
       "      <td>0.0</td>\n",
       "      <td>0.04</td>\n",
       "      <td>0.05</td>\n",
       "      <td>1</td>\n",
       "    </tr>\n",
       "    <tr>\n",
       "      <th>494020</th>\n",
       "      <td>0</td>\n",
       "      <td>1</td>\n",
       "      <td>9</td>\n",
       "      <td>219</td>\n",
       "      <td>1234</td>\n",
       "      <td>0</td>\n",
       "      <td>0</td>\n",
       "      <td>0</td>\n",
       "      <td>0</td>\n",
       "      <td>0</td>\n",
       "      <td>...</td>\n",
       "      <td>0.0</td>\n",
       "      <td>1.0</td>\n",
       "      <td>0.0</td>\n",
       "      <td>0.14</td>\n",
       "      <td>6</td>\n",
       "      <td>255</td>\n",
       "      <td>0.0</td>\n",
       "      <td>0.17</td>\n",
       "      <td>0.05</td>\n",
       "      <td>1</td>\n",
       "    </tr>\n",
       "  </tbody>\n",
       "</table>\n",
       "<p>494021 rows × 31 columns</p>\n",
       "</div>"
      ],
      "text/plain": [
       "        duration  protocol_type  flag  src_bytes  dst_bytes  land  \\\n",
       "0              0              1     9        181       5450     0   \n",
       "1              0              1     9        239        486     0   \n",
       "2              0              1     9        235       1337     0   \n",
       "3              0              1     9        219       1337     0   \n",
       "4              0              1     9        217       2032     0   \n",
       "...          ...            ...   ...        ...        ...   ...   \n",
       "494016         0              1     9        310       1881     0   \n",
       "494017         0              1     9        282       2286     0   \n",
       "494018         0              1     9        203       1200     0   \n",
       "494019         0              1     9        291       1200     0   \n",
       "494020         0              1     9        219       1234     0   \n",
       "\n",
       "        wrong_fragment  urgent  hot  num_failed_logins  ...  rerror_rate  \\\n",
       "0                    0       0    0                  0  ...          0.0   \n",
       "1                    0       0    0                  0  ...          0.0   \n",
       "2                    0       0    0                  0  ...          0.0   \n",
       "3                    0       0    0                  0  ...          0.0   \n",
       "4                    0       0    0                  0  ...          0.0   \n",
       "...                ...     ...  ...                ...  ...          ...   \n",
       "494016               0       0    0                  0  ...          0.0   \n",
       "494017               0       0    0                  0  ...          0.0   \n",
       "494018               0       0    0                  0  ...          0.0   \n",
       "494019               0       0    0                  0  ...          0.0   \n",
       "494020               0       0    0                  0  ...          0.0   \n",
       "\n",
       "        same_srv_rate  diff_srv_rate  srv_diff_host_rate  dst_host_count  \\\n",
       "0                 1.0            0.0                0.00               9   \n",
       "1                 1.0            0.0                0.00              19   \n",
       "2                 1.0            0.0                0.00              29   \n",
       "3                 1.0            0.0                0.00              39   \n",
       "4                 1.0            0.0                0.00              49   \n",
       "...               ...            ...                 ...             ...   \n",
       "494016            1.0            0.0                0.40              86   \n",
       "494017            1.0            0.0                0.00               6   \n",
       "494018            1.0            0.0                0.17              16   \n",
       "494019            1.0            0.0                0.17              26   \n",
       "494020            1.0            0.0                0.14               6   \n",
       "\n",
       "        dst_host_srv_count  dst_host_diff_srv_rate  \\\n",
       "0                        9                     0.0   \n",
       "1                       19                     0.0   \n",
       "2                       29                     0.0   \n",
       "3                       39                     0.0   \n",
       "4                       49                     0.0   \n",
       "...                    ...                     ...   \n",
       "494016                 255                     0.0   \n",
       "494017                 255                     0.0   \n",
       "494018                 255                     0.0   \n",
       "494019                 255                     0.0   \n",
       "494020                 255                     0.0   \n",
       "\n",
       "        dst_host_same_src_port_rate  dst_host_srv_diff_host_rate  Attack Type  \n",
       "0                              0.11                         0.00            1  \n",
       "1                              0.05                         0.00            1  \n",
       "2                              0.03                         0.00            1  \n",
       "3                              0.03                         0.00            1  \n",
       "4                              0.02                         0.00            1  \n",
       "...                             ...                          ...          ...  \n",
       "494016                         0.01                         0.05            1  \n",
       "494017                         0.17                         0.05            1  \n",
       "494018                         0.06                         0.05            1  \n",
       "494019                         0.04                         0.05            1  \n",
       "494020                         0.17                         0.05            1  \n",
       "\n",
       "[494021 rows x 31 columns]"
      ]
     },
     "execution_count": 33,
     "metadata": {},
     "output_type": "execute_result"
    }
   ],
   "source": [
    "pd.read_csv(\"ids.csv\")"
   ]
  },
  {
   "cell_type": "markdown",
   "id": "520eea2a",
   "metadata": {
    "papermill": {
     "duration": 0.021112,
     "end_time": "2023-04-13T10:14:15.952168",
     "exception": false,
     "start_time": "2023-04-13T10:14:15.931056",
     "status": "completed"
    },
    "tags": []
   },
   "source": [
    "## Shallow Neural Network"
   ]
  },
  {
   "cell_type": "code",
   "execution_count": 34,
   "id": "29bf679d",
   "metadata": {
    "papermill": {
     "duration": 0.177961,
     "end_time": "2023-04-13T10:14:16.148165",
     "exception": false,
     "start_time": "2023-04-13T10:14:15.970204",
     "status": "completed"
    },
    "tags": []
   },
   "outputs": [
    {
     "name": "stderr",
     "output_type": "stream",
     "text": [
      "d:\\Development\\hdbw.ai-methods.capstone\\.venv\\Lib\\site-packages\\keras\\src\\layers\\core\\dense.py:93: UserWarning: Do not pass an `input_shape`/`input_dim` argument to a layer. When using Sequential models, prefer using an `Input(shape)` object as the first layer in the model instead.\n",
      "  super().__init__(activity_regularizer=activity_regularizer, **kwargs)\n"
     ]
    }
   ],
   "source": [
    "shallow_model = Sequential([\n",
    "    Dense(1024, input_dim=30, activation='relu'),\n",
    "    Dropout(0.01),\n",
    "    Dense(5, activation='softmax')\n",
    "])"
   ]
  },
  {
   "cell_type": "code",
   "execution_count": 35,
   "id": "8083f59a",
   "metadata": {
    "papermill": {
     "duration": 0.040368,
     "end_time": "2023-04-13T10:14:16.208226",
     "exception": false,
     "start_time": "2023-04-13T10:14:16.167858",
     "status": "completed"
    },
    "tags": []
   },
   "outputs": [],
   "source": [
    "shallow_model.compile(loss ='sparse_categorical_crossentropy', optimizer = 'adam', metrics = ['accuracy'])"
   ]
  },
  {
   "cell_type": "code",
   "execution_count": 36,
   "id": "84f0c95f",
   "metadata": {
    "papermill": {
     "duration": 2.087889,
     "end_time": "2023-04-13T10:14:18.313866",
     "exception": false,
     "start_time": "2023-04-13T10:14:16.225977",
     "status": "completed"
    },
    "tags": []
   },
   "outputs": [
    {
     "name": "stdout",
     "output_type": "stream",
     "text": [
      "You must install graphviz (see instructions at https://graphviz.gitlab.io/download/) for `plot_model` to work.\n"
     ]
    }
   ],
   "source": [
    "tf.keras.utils.plot_model(shallow_model, to_file=\"shallow_model.png\", show_shapes=True)"
   ]
  },
  {
   "cell_type": "code",
   "execution_count": 36,
   "id": "3c9e728f",
   "metadata": {
    "papermill": {
     "duration": 322.963398,
     "end_time": "2023-04-13T10:19:41.296058",
     "exception": false,
     "start_time": "2023-04-13T10:14:18.332660",
     "status": "completed"
    },
    "tags": []
   },
   "outputs": [
    {
     "name": "stdout",
     "output_type": "stream",
     "text": [
      "Epoch 1/10\n",
      "\u001b[1m10344/10344\u001b[0m \u001b[32m━━━━━━━━━━━━━━━━━━━━\u001b[0m\u001b[37m\u001b[0m \u001b[1m14s\u001b[0m 1ms/step - accuracy: 0.9902 - loss: 0.0353\n",
      "Epoch 2/10\n",
      "\u001b[1m10344/10344\u001b[0m \u001b[32m━━━━━━━━━━━━━━━━━━━━\u001b[0m\u001b[37m\u001b[0m \u001b[1m13s\u001b[0m 1ms/step - accuracy: 0.9987 - loss: 0.0047\n",
      "Epoch 3/10\n",
      "\u001b[1m10344/10344\u001b[0m \u001b[32m━━━━━━━━━━━━━━━━━━━━\u001b[0m\u001b[37m\u001b[0m \u001b[1m16s\u001b[0m 2ms/step - accuracy: 0.9989 - loss: 0.0041\n",
      "Epoch 4/10\n",
      "\u001b[1m10344/10344\u001b[0m \u001b[32m━━━━━━━━━━━━━━━━━━━━\u001b[0m\u001b[37m\u001b[0m \u001b[1m13s\u001b[0m 1ms/step - accuracy: 0.9990 - loss: 0.0037\n",
      "Epoch 5/10\n",
      "\u001b[1m10344/10344\u001b[0m \u001b[32m━━━━━━━━━━━━━━━━━━━━\u001b[0m\u001b[37m\u001b[0m \u001b[1m15s\u001b[0m 1ms/step - accuracy: 0.9990 - loss: 0.0037\n",
      "Epoch 6/10\n",
      "\u001b[1m10344/10344\u001b[0m \u001b[32m━━━━━━━━━━━━━━━━━━━━\u001b[0m\u001b[37m\u001b[0m \u001b[1m17s\u001b[0m 2ms/step - accuracy: 0.9990 - loss: 0.0036\n",
      "Epoch 7/10\n",
      "\u001b[1m10344/10344\u001b[0m \u001b[32m━━━━━━━━━━━━━━━━━━━━\u001b[0m\u001b[37m\u001b[0m \u001b[1m15s\u001b[0m 1ms/step - accuracy: 0.9991 - loss: 0.0034\n",
      "Epoch 8/10\n",
      "\u001b[1m10344/10344\u001b[0m \u001b[32m━━━━━━━━━━━━━━━━━━━━\u001b[0m\u001b[37m\u001b[0m \u001b[1m17s\u001b[0m 2ms/step - accuracy: 0.9991 - loss: 0.0034\n",
      "Epoch 9/10\n",
      "\u001b[1m10344/10344\u001b[0m \u001b[32m━━━━━━━━━━━━━━━━━━━━\u001b[0m\u001b[37m\u001b[0m \u001b[1m17s\u001b[0m 2ms/step - accuracy: 0.9992 - loss: 0.0031\n",
      "Epoch 10/10\n",
      "\u001b[1m10344/10344\u001b[0m \u001b[32m━━━━━━━━━━━━━━━━━━━━\u001b[0m\u001b[37m\u001b[0m \u001b[1m17s\u001b[0m 2ms/step - accuracy: 0.9992 - loss: 0.0032\n"
     ]
    },
    {
     "data": {
      "text/plain": [
       "<keras.src.callbacks.history.History at 0x29124fc5700>"
      ]
     },
     "execution_count": 36,
     "metadata": {},
     "output_type": "execute_result"
    }
   ],
   "source": [
    "shallow_model.fit(X_train, Y_train.values.ravel(), epochs=10, batch_size=32)"
   ]
  },
  {
   "cell_type": "markdown",
   "id": "8e6e7bd2",
   "metadata": {
    "papermill": {
     "duration": 0.379534,
     "end_time": "2023-04-13T10:19:42.119073",
     "exception": false,
     "start_time": "2023-04-13T10:19:41.739539",
     "status": "completed"
    },
    "tags": []
   },
   "source": [
    "## Deep Neural Network"
   ]
  },
  {
   "cell_type": "code",
   "execution_count": 37,
   "id": "836f8588",
   "metadata": {
    "papermill": {
     "duration": 0.462276,
     "end_time": "2023-04-13T10:19:42.960724",
     "exception": false,
     "start_time": "2023-04-13T10:19:42.498448",
     "status": "completed"
    },
    "tags": []
   },
   "outputs": [],
   "source": [
    "deep_model = Sequential([\n",
    "    Dense(1024, input_dim=30, activation='relu'),\n",
    "    Dropout(0.01),\n",
    "    Dense(768, activation='relu'),\n",
    "    Dropout(0.01),\n",
    "    Dense(512, activation='relu'),\n",
    "    Dropout(0.01),\n",
    "    Dense(256, activation='relu'),\n",
    "    Dropout(0.01),\n",
    "    Dense(128, activation='relu'),\n",
    "    Dropout(0.01),\n",
    "    Dense(5, activation='softmax')\n",
    "])"
   ]
  },
  {
   "cell_type": "code",
   "execution_count": 38,
   "id": "3e815b81",
   "metadata": {
    "papermill": {
     "duration": 0.395922,
     "end_time": "2023-04-13T10:19:43.787774",
     "exception": false,
     "start_time": "2023-04-13T10:19:43.391852",
     "status": "completed"
    },
    "tags": []
   },
   "outputs": [],
   "source": [
    "deep_model.compile(loss ='sparse_categorical_crossentropy', optimizer = 'adam', metrics = ['accuracy'])"
   ]
  },
  {
   "cell_type": "code",
   "execution_count": 39,
   "id": "5e768e2f",
   "metadata": {
    "papermill": {
     "duration": 0.539694,
     "end_time": "2023-04-13T10:19:44.703701",
     "exception": false,
     "start_time": "2023-04-13T10:19:44.164007",
     "status": "completed"
    },
    "tags": []
   },
   "outputs": [
    {
     "name": "stdout",
     "output_type": "stream",
     "text": [
      "You must install graphviz (see instructions at https://graphviz.gitlab.io/download/) for `plot_model` to work.\n"
     ]
    }
   ],
   "source": [
    "tf.keras.utils.plot_model(deep_model, to_file=\"deep_model.png\", show_shapes=True)"
   ]
  },
  {
   "cell_type": "code",
   "execution_count": 40,
   "id": "4552ed03",
   "metadata": {
    "papermill": {
     "duration": 1135.433206,
     "end_time": "2023-04-13T10:38:40.571897",
     "exception": false,
     "start_time": "2023-04-13T10:19:45.138691",
     "status": "completed"
    },
    "tags": []
   },
   "outputs": [
    {
     "name": "stdout",
     "output_type": "stream",
     "text": [
      "Epoch 1/10\n",
      "\u001b[1m10344/10344\u001b[0m \u001b[32m━━━━━━━━━━━━━━━━━━━━\u001b[0m\u001b[37m\u001b[0m \u001b[1m97s\u001b[0m 9ms/step - accuracy: 0.9924 - loss: 0.0315\n",
      "Epoch 2/10\n",
      "\u001b[1m10344/10344\u001b[0m \u001b[32m━━━━━━━━━━━━━━━━━━━━\u001b[0m\u001b[37m\u001b[0m \u001b[1m100s\u001b[0m 10ms/step - accuracy: 0.9975 - loss: 0.0106\n",
      "Epoch 3/10\n",
      "\u001b[1m10344/10344\u001b[0m \u001b[32m━━━━━━━━━━━━━━━━━━━━\u001b[0m\u001b[37m\u001b[0m \u001b[1m103s\u001b[0m 10ms/step - accuracy: 0.9984 - loss: 0.0069\n",
      "Epoch 4/10\n",
      "\u001b[1m10344/10344\u001b[0m \u001b[32m━━━━━━━━━━━━━━━━━━━━\u001b[0m\u001b[37m\u001b[0m \u001b[1m93s\u001b[0m 9ms/step - accuracy: 0.9985 - loss: 0.0066\n",
      "Epoch 5/10\n",
      "\u001b[1m10344/10344\u001b[0m \u001b[32m━━━━━━━━━━━━━━━━━━━━\u001b[0m\u001b[37m\u001b[0m \u001b[1m94s\u001b[0m 9ms/step - accuracy: 0.9985 - loss: 0.0071\n",
      "Epoch 6/10\n",
      "\u001b[1m10344/10344\u001b[0m \u001b[32m━━━━━━━━━━━━━━━━━━━━\u001b[0m\u001b[37m\u001b[0m \u001b[1m115s\u001b[0m 11ms/step - accuracy: 0.9988 - loss: 0.0094\n",
      "Epoch 7/10\n",
      "\u001b[1m10344/10344\u001b[0m \u001b[32m━━━━━━━━━━━━━━━━━━━━\u001b[0m\u001b[37m\u001b[0m \u001b[1m118s\u001b[0m 11ms/step - accuracy: 0.9987 - loss: 0.0060\n",
      "Epoch 8/10\n",
      "\u001b[1m10344/10344\u001b[0m \u001b[32m━━━━━━━━━━━━━━━━━━━━\u001b[0m\u001b[37m\u001b[0m \u001b[1m142s\u001b[0m 14ms/step - accuracy: 0.9988 - loss: 0.0057\n",
      "Epoch 9/10\n",
      "\u001b[1m10344/10344\u001b[0m \u001b[32m━━━━━━━━━━━━━━━━━━━━\u001b[0m\u001b[37m\u001b[0m \u001b[1m134s\u001b[0m 13ms/step - accuracy: 0.9987 - loss: 0.0060\n",
      "Epoch 10/10\n",
      "\u001b[1m10344/10344\u001b[0m \u001b[32m━━━━━━━━━━━━━━━━━━━━\u001b[0m\u001b[37m\u001b[0m \u001b[1m111s\u001b[0m 11ms/step - accuracy: 0.9988 - loss: 0.0087\n"
     ]
    },
    {
     "data": {
      "text/plain": [
       "<keras.src.callbacks.history.History at 0x29125127020>"
      ]
     },
     "execution_count": 40,
     "metadata": {},
     "output_type": "execute_result"
    }
   ],
   "source": [
    "deep_model.fit(X_train, Y_train.values.ravel(), epochs=10, batch_size=32)"
   ]
  }
 ],
 "metadata": {
  "kernelspec": {
   "display_name": "project",
   "language": "python",
   "name": "python3"
  },
  "language_info": {
   "codemirror_mode": {
    "name": "ipython",
    "version": 3
   },
   "file_extension": ".py",
   "mimetype": "text/x-python",
   "name": "python",
   "nbconvert_exporter": "python",
   "pygments_lexer": "ipython3",
   "version": "3.12.9"
  },
  "papermill": {
   "default_parameters": {},
   "duration": 2710.778042,
   "end_time": "2023-04-13T10:58:48.161614",
   "environment_variables": {},
   "exception": null,
   "input_path": "__notebook__.ipynb",
   "output_path": "__notebook__.ipynb",
   "parameters": {},
   "start_time": "2023-04-13T10:13:37.383572",
   "version": "2.3.4"
  }
 },
 "nbformat": 4,
 "nbformat_minor": 5
}
