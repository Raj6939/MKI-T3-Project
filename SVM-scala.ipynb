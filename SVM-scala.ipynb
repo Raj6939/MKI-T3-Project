{
 "cells": [
  {
   "cell_type": "code",
   "execution_count": 1,
   "id": "8f2f451e-8858-447c-8e7a-8d61400e1163",
   "metadata": {},
   "outputs": [
    {
     "name": "stdout",
     "output_type": "stream",
     "text": [
      "Hello, Scala!\n"
     ]
    }
   ],
   "source": [
    "println(\"Hello, Scala!\")"
   ]
  },
  {
   "cell_type": "code",
   "execution_count": 2,
   "id": "6a06c2b1-1d68-4674-a97d-5e6ae75d29b5",
   "metadata": {},
   "outputs": [
    {
     "data": {
      "text/plain": [
       "\u001b[32mimport \u001b[39m\u001b[36m$ivy.$\u001b[39m\n",
       "\u001b[32mimport \u001b[39m\u001b[36m$ivy.$\u001b[39m\n",
       "\u001b[32mimport \u001b[39m\u001b[36m$ivy.$\u001b[39m"
      ]
     },
     "execution_count": 2,
     "metadata": {},
     "output_type": "execute_result"
    }
   ],
   "source": [
    "import $ivy.`com.github.haifengl:smile-core:2.6.0`\n",
    "import $ivy.`com.github.haifengl:smile-data:2.6.0`\n",
    "import $ivy.`com.github.haifengl:smile-io:2.6.0`\n"
   ]
  },
  {
   "cell_type": "code",
   "execution_count": 3,
   "id": "82a5b278-9499-4e04-abe2-5b079401a0da",
   "metadata": {},
   "outputs": [
    {
     "data": {
      "text/plain": [
       "\u001b[32mimport \u001b[39m\u001b[36msmile.io._\u001b[39m\n",
       "\u001b[32mimport \u001b[39m\u001b[36msmile.data._\u001b[39m"
      ]
     },
     "execution_count": 3,
     "metadata": {},
     "output_type": "execute_result"
    }
   ],
   "source": [
    "import smile.io._\n",
    "import smile.data._"
   ]
  },
  {
   "cell_type": "code",
   "execution_count": 4,
   "id": "11236871-ac18-4db7-ad69-902617ea842f",
   "metadata": {},
   "outputs": [
    {
     "data": {
      "text/plain": [
       "\u001b[32mimport \u001b[39m\u001b[36msmile.io.Read\u001b[39m\n",
       "\u001b[32mimport \u001b[39m\u001b[36mjava.nio.file.Paths\u001b[39m"
      ]
     },
     "execution_count": 4,
     "metadata": {},
     "output_type": "execute_result"
    }
   ],
   "source": [
    "import smile.io.Read\n",
    "import java.nio.file.Paths\n"
   ]
  },
  {
   "cell_type": "code",
   "execution_count": 5,
   "id": "f7ebfc9e-ab14-43d0-9830-ae0ba57d8b2f",
   "metadata": {},
   "outputs": [
    {
     "name": "stderr",
     "output_type": "stream",
     "text": [
      "SLF4J: Failed to load class \"org.slf4j.impl.StaticLoggerBinder\".\n",
      "SLF4J: Defaulting to no-operation (NOP) logger implementation\n",
      "SLF4J: See http://www.slf4j.org/codes.html#StaticLoggerBinder for further details.\n"
     ]
    },
    {
     "data": {
      "text/plain": [
       "\u001b[36mX_train_df\u001b[39m: \u001b[32mDataFrame\u001b[39m = [V1: double, V2: double, V3: double, V4: double, V5: double, V6: double, V7: double, V8: double, V9: double, V10: double, V11: double, V12: double, V13: double, V14: double, V15: double, V16: double, V17: double, V18: double, V19: double, V20: double, V21: double, V22: double, V23: double, V24: double, V25: double, V26: double, V27: double, V28: double, V29: double, V30: double]\n",
       "+--------+---+---+--------+--------+---+---+---+---+---+---+---+---+---+---+---+---+---+--------+--------+----+----+---+---+---+--------+--------+----+----+----+\n",
       "|      V1| V2| V3|      V4|      V5| V6| V7| V8| V9|V10|V11|V12|V13|V14|V15|V16|V17|V18|     V19|     V20| V21| V22|V23|V24|V25|     V26|     V27| V28| V29| V30|\n",
       "+--------+---+---+--------+--------+---+---+---+---+---+---+---+---+---+---+---+---+---+--------+--------+----+----+---+---+---+--------+--------+----+----+----+\n",
       "|0.025202|  1|0.9|       0| 0.00002|  0|  0|  0|  0|  0|  0|  0|  0|  0|  0|  0|  0|  0|0.001957|0.001957|   0|   0|  1|  0|  0|       1|0.003922|0.82|   1|   0|\n",
       "|       0|  0|0.9|0.000001|       0|  0|  0|  0|  0|  0|  0|  0|  0|  0|  0|  0|  0|  0|       1|       1|   0|   0|  1|  0|  0|       1|       1|   0|   1|   0|\n",
       "|       0|  0|0.9|0.000001|       0|  0|  0|  0|  0|  0|  0|  0|  0|  0|  0|  0|  0|  0|       1|       1|   0|   0|  1|  0|  0|       1|       1|   0|   1|   0|\n",
       "|0.000103|0.5|0.9|0.000004|0.000065|  0|  0|  0|  0|  0|  1|  0|  0|  0|  0|  0|  0|  0|0.001957|0.001957|   0|   0|  1|  0|  0|0.737255|0.729412|0.02|0.01|0.01|\n",
       "|       0|  0|0.9|0.000001|       0|  0|  0|  0|  0|  0|  0|  0|  0|  0|  0|  0|  0|  0|       1|       1|   0|   0|  1|  0|  0|       1|       1|   0|   1|   0|\n",
       "|       0|0.5|0.9|       0|0.001647|  0|  0|  0|  0|  0|  1|  0|  0|  0|  0|  0|  0|  0|0.056751|0.056751|   0|   0|  1|  0|  0|0.113725|       1|   0|0.03|0.03|\n",
       "|       0|  0|0.9|0.000001|       0|  0|  0|  0|  0|  0|  0|  0|  0|  0|  0|  0|  0|  0|       1|       1|   0|   0|  1|  0|  0|       1|       1|   0|   1|   0|\n",
       "|       0|0.5|0.5|       0|       0|  0|  0|  0|  0|  0|  0|  0|  0|  0|  0|  0|  0|  0|0.998043|0.001957|0.12|0.88|  0|  1|  0|       1|0.003922|   1|   0|   0|\n",
       "|       0|  0|0.9|0.000001|       0|  0|  0|  0|  0|  0|  0|  0|  0|  0|  0|  0|...\n",
       "\u001b[36mX_test_df\u001b[39m: \u001b[32mDataFrame\u001b[39m = [V1: double, V2: double, V3: double, V4: double, V5: double, V6: double, V7: double, V8: double, V9: double, V10: double, V11: double, V12: double, V13: double, V14: double, V15: double, V16: double, V17: double, V18: double, V19: double, V20: double, V21: double, V22: double, V23: double, V24: double, V25: double, V26: double, V27: double, V28: double, V29: double, V30: double]\n",
       "+---+---+---+--------+--------+---+---+---+---+---+---+---+---+---+---+---+---+---+--------+--------+---+---+----+----+---+--------+--------+----+----+----+\n",
       "| V1| V2| V3|      V4|      V5| V6| V7| V8| V9|V10|V11|V12|V13|V14|V15|V16|V17|V18|     V19|     V20|V21|V22| V23| V24|V25|     V26|     V27| V28| V29| V30|\n",
       "+---+---+---+--------+--------+---+---+---+---+---+---+---+---+---+---+---+---+---+--------+--------+---+---+----+----+---+--------+--------+----+----+----+\n",
       "|  0|  0|0.9|0.000001|       0|  0|  0|  0|  0|  0|  0|  0|  0|  0|  0|  0|  0|  0|       1|       1|  0|  0|   1|   0|  0|       1|       1|   0|   1|   0|\n",
       "|  0|  0|0.9|0.000001|       0|  0|  0|  0|  0|  0|  0|  0|  0|  0|  0|  0|  0|  0|       1|       1|  0|  0|   1|   0|  0|       1|       1|   0|   1|   0|\n",
       "|  0|  0|0.9|0.000001|       0|  0|  0|  0|  0|  0|  0|  0|  0|  0|  0|  0|  0|  0|       1|       1|  0|  0|   1|   0|  0|       1|       1|   0|   1|   0|\n",
       "|  0|0.5|0.9|       0|0.001051|  0|  0|  0|  0|  0|  1|  0|  0|  0|  0|  0|  0|  0|0.011742|0.011742|  0|  0|   1|   0|  0|0.396078|       1|   0|0.01|0.02|\n",
       "|  0|0.5|0.5|       0|       0|  0|  0|  0|  0|  0|  0|  0|  0|  0|  0|  0|  0|  0|0.508806|0.003914|  1|  0|0.01|0.06|  0|       1|0.007843|0.07|   0|   0|\n",
       "|  0|  0|0.9|0.000001|       0|  0|  0|  0|  0|  0|  0|  0|  0|  0|  0|  0|  0|  0|       1|       1|  0|  0|   1|   0|  0|       1|       1|   0|   1|   0|\n",
       "|  0|0.5|0.5|       0|       0|  0|  0|  0|  0|  0|  0|  0|  0|  0|  0|  0|  0|  0|0.571429|0.039139|  1|  0|0.07|0.05|  0|       1|0.078431|0.05|   0|   0|\n",
       "|  0|0.5|0.9|       0|0.000225|  0|  0|  0|  0|  0|  1|  0|  0|  0|  0|  0|  0|  0|0.029354|0.029354|  0|  0|   1|   0|  0|       1|       1|   0|   0|   0|\n",
       "|  0|  0|0.9|0.000001|       0|  0|  0|  0|  0|  0|  0|  0|  0|  0|  0|  0|  0|  0|       1|       1|  0|  0|   1|   0|  0|       1|       1|   0|   1|   0|\n",
       "|  0|  0|0.9|0.000001|       0|  0|  0|  0|  0|  0|  0|  0|  0|  0|  0|  0|  0|  0|0.906067|0.906067|  0|  0|   1|   0|  0|       1|       1|   0|   1|   0|\n",
       "+---+---+---+--------+--------+---+---+---+---+---+---+---+---+---+---+---+---+---+--------+--------+---+---+----+----+---+--------+--------+----+----+----+\n",
       "163017 more rows...\n",
       "\n",
       "\u001b[36mY_train_df\u001b[39m: \u001b[32mDataFrame\u001b[39m = [V1: int]\n",
       "+---+\n",
       "| V1|\n",
       "+---+\n",
       "|  1|\n",
       "|  0|\n",
       "|  0|\n",
       "|  1|\n",
       "|  0|\n",
       "|  1|\n",
       "|  0|\n",
       "|  2|\n",
       "|  0|\n",
       "|  0|\n",
       "+---+\n",
       "330984 more rows...\n",
       "\n",
       "\u001b[36mY_test_df\u001b[39m: \u001b[32mDataFrame\u001b[39m = [V1: int]\n",
       "+---+\n",
       "| V1|\n",
       "+---+\n",
       "|  0|\n",
       "|  0|\n",
       "|  0|\n",
       "|  1|\n",
       "|  0|\n",
       "|  0|\n",
       "|  0|\n",
       "|  1|\n",
       "|  0|\n",
       "|  0|\n",
       "+---+\n",
       "163017 more rows...\n",
       "\n",
       "\u001b[36mX_train_array\u001b[39m: \u001b[32mArray\u001b[39m[\u001b[32mArray\u001b[39m[\u001b[32mDouble\u001b[39m]] = \u001b[33mArray\u001b[39m(\n",
       "  \u001b[33mArray\u001b[39m(\n",
       "    \u001b[32m0.025201872139073187\u001b[39m,\n",
       "    \u001b[32m1.0\u001b[39m,\n",
       "    \u001b[32m0.9\u001b[39m,\n",
       "    \u001b[32m2.1200629430823384E-7\u001b[39m,\n",
       "    \u001b[32m2.0366725193522682E-5\u001b[39m,\n",
       "    \u001b[32m0.0\u001b[39m,\n",
       "    \u001b[32m0.0\u001b[39m,\n",
       "    \u001b[32m0.0\u001b[39m,\n",
       "    \u001b[32m0.0\u001b[39m,\n",
       "    \u001b[32m0.0\u001b[39m,\n",
       "    \u001b[32m0.0\u001b[39m,\n",
       "    \u001b[32m0.0\u001b[39m,\n",
       "    \u001b[32m0.0\u001b[39m,\n",
       "    \u001b[32m0.0\u001b[39m,\n",
       "    \u001b[32m0.0\u001b[39m,\n",
       "    \u001b[32m0.0\u001b[39m,\n",
       "    \u001b[32m0.0\u001b[39m,\n",
       "    \u001b[32m0.0\u001b[39m,\n",
       "    \u001b[32m0.0019569471624266144\u001b[39m,\n",
       "    \u001b[32m0.0019569471624266144\u001b[39m,\n",
       "    \u001b[32m0.0\u001b[39m,\n",
       "    \u001b[32m0.0\u001b[39m,\n",
       "    \u001b[32m1.0\u001b[39m,\n",
       "    \u001b[32m0.0\u001b[39m,\n",
       "    \u001b[32m0.0\u001b[39m,\n",
       "    \u001b[32m1.0\u001b[39m,\n",
       "    \u001b[32m0.00392156862745098\u001b[39m,\n",
       "    \u001b[32m0.82\u001b[39m,\n",
       "    \u001b[32m1.0\u001b[39m,\n",
       "    \u001b[32m0.0\u001b[39m\n",
       "  ),\n",
       "  \u001b[33mArray\u001b[39m(\n",
       "    \u001b[32m0.0\u001b[39m,\n",
       "    \u001b[32m0.0\u001b[39m,\n",
       "    \u001b[32m0.9\u001b[39m,\n",
       "    \u001b[32m1.4883707192251517E-6\u001b[39m,\n",
       "    \u001b[32m0.0\u001b[39m,\n",
       "...\n",
       "\u001b[36mX_test_array\u001b[39m: \u001b[32mArray\u001b[39m[\u001b[32mArray\u001b[39m[\u001b[32mDouble\u001b[39m]] = \u001b[33mArray\u001b[39m(\n",
       "  \u001b[33mArray\u001b[39m(\n",
       "    \u001b[32m0.0\u001b[39m,\n",
       "    \u001b[32m0.0\u001b[39m,\n",
       "    \u001b[32m0.9\u001b[39m,\n",
       "    \u001b[32m1.4883707192251517E-6\u001b[39m,\n",
       "    \u001b[32m0.0\u001b[39m,\n",
       "    \u001b[32m0.0\u001b[39m,\n",
       "    \u001b[32m0.0\u001b[39m,\n",
       "    \u001b[32m0.0\u001b[39m,\n",
       "    \u001b[32m0.0\u001b[39m,\n",
       "    \u001b[32m0.0\u001b[39m,\n",
       "    \u001b[32m0.0\u001b[39m,\n",
       "    \u001b[32m0.0\u001b[39m,\n",
       "    \u001b[32m0.0\u001b[39m,\n",
       "    \u001b[32m0.0\u001b[39m,\n",
       "    \u001b[32m0.0\u001b[39m,\n",
       "    \u001b[32m0.0\u001b[39m,\n",
       "    \u001b[32m0.0\u001b[39m,\n",
       "    \u001b[32m0.0\u001b[39m,\n",
       "    \u001b[32m1.0\u001b[39m,\n",
       "    \u001b[32m1.0\u001b[39m,\n",
       "    \u001b[32m0.0\u001b[39m,\n",
       "    \u001b[32m0.0\u001b[39m,\n",
       "    \u001b[32m1.0\u001b[39m,\n",
       "    \u001b[32m0.0\u001b[39m,\n",
       "    \u001b[32m0.0\u001b[39m,\n",
       "    \u001b[32m1.0\u001b[39m,\n",
       "    \u001b[32m1.0\u001b[39m,\n",
       "    \u001b[32m0.0\u001b[39m,\n",
       "    \u001b[32m1.0\u001b[39m,\n",
       "    \u001b[32m0.0\u001b[39m\n",
       "  ),\n",
       "  \u001b[33mArray\u001b[39m(\n",
       "    \u001b[32m0.0\u001b[39m,\n",
       "    \u001b[32m0.0\u001b[39m,\n",
       "    \u001b[32m0.9\u001b[39m,\n",
       "    \u001b[32m1.4883707192251517E-6\u001b[39m,\n",
       "    \u001b[32m0.0\u001b[39m,\n",
       "...\n",
       "\u001b[36mY_train_array\u001b[39m: \u001b[32mArray\u001b[39m[\u001b[32mInt\u001b[39m] = \u001b[33mArray\u001b[39m(\n",
       "  \u001b[32m1\u001b[39m,\n",
       "  \u001b[32m0\u001b[39m,\n",
       "  \u001b[32m0\u001b[39m,\n",
       "  \u001b[32m1\u001b[39m,\n",
       "  \u001b[32m0\u001b[39m,\n",
       "  \u001b[32m1\u001b[39m,\n",
       "  \u001b[32m0\u001b[39m,\n",
       "  \u001b[32m2\u001b[39m,\n",
       "  \u001b[32m0\u001b[39m,\n",
       "  \u001b[32m0\u001b[39m,\n",
       "  \u001b[32m0\u001b[39m,\n",
       "  \u001b[32m1\u001b[39m,\n",
       "  \u001b[32m1\u001b[39m,\n",
       "  \u001b[32m0\u001b[39m,\n",
       "  \u001b[32m0\u001b[39m,\n",
       "  \u001b[32m1\u001b[39m,\n",
       "  \u001b[32m0\u001b[39m,\n",
       "  \u001b[32m0\u001b[39m,\n",
       "  \u001b[32m0\u001b[39m,\n",
       "  \u001b[32m0\u001b[39m,\n",
       "  \u001b[32m2\u001b[39m,\n",
       "  \u001b[32m0\u001b[39m,\n",
       "  \u001b[32m0\u001b[39m,\n",
       "  \u001b[32m0\u001b[39m,\n",
       "  \u001b[32m0\u001b[39m,\n",
       "  \u001b[32m1\u001b[39m,\n",
       "  \u001b[32m1\u001b[39m,\n",
       "  \u001b[32m0\u001b[39m,\n",
       "  \u001b[32m0\u001b[39m,\n",
       "  \u001b[32m0\u001b[39m,\n",
       "  \u001b[32m1\u001b[39m,\n",
       "  \u001b[32m0\u001b[39m,\n",
       "  \u001b[32m0\u001b[39m,\n",
       "  \u001b[32m0\u001b[39m,\n",
       "  \u001b[32m0\u001b[39m,\n",
       "  \u001b[32m1\u001b[39m,\n",
       "  \u001b[32m0\u001b[39m,\n",
       "  \u001b[32m0\u001b[39m,\n",
       "...\n",
       "\u001b[36mY_test_array\u001b[39m: \u001b[32mArray\u001b[39m[\u001b[32mInt\u001b[39m] = \u001b[33mArray\u001b[39m(\n",
       "  \u001b[32m0\u001b[39m,\n",
       "  \u001b[32m0\u001b[39m,\n",
       "  \u001b[32m0\u001b[39m,\n",
       "  \u001b[32m1\u001b[39m,\n",
       "  \u001b[32m0\u001b[39m,\n",
       "  \u001b[32m0\u001b[39m,\n",
       "  \u001b[32m0\u001b[39m,\n",
       "  \u001b[32m1\u001b[39m,\n",
       "  \u001b[32m0\u001b[39m,\n",
       "  \u001b[32m0\u001b[39m,\n",
       "  \u001b[32m0\u001b[39m,\n",
       "  \u001b[32m0\u001b[39m,\n",
       "  \u001b[32m0\u001b[39m,\n",
       "  \u001b[32m0\u001b[39m,\n",
       "  \u001b[32m1\u001b[39m,\n",
       "  \u001b[32m0\u001b[39m,\n",
       "  \u001b[32m0\u001b[39m,\n",
       "  \u001b[32m0\u001b[39m,\n",
       "  \u001b[32m0\u001b[39m,\n",
       "  \u001b[32m0\u001b[39m,\n",
       "  \u001b[32m0\u001b[39m,\n",
       "  \u001b[32m0\u001b[39m,\n",
       "  \u001b[32m0\u001b[39m,\n",
       "  \u001b[32m1\u001b[39m,\n",
       "  \u001b[32m0\u001b[39m,\n",
       "  \u001b[32m0\u001b[39m,\n",
       "  \u001b[32m0\u001b[39m,\n",
       "  \u001b[32m0\u001b[39m,\n",
       "  \u001b[32m0\u001b[39m,\n",
       "  \u001b[32m1\u001b[39m,\n",
       "  \u001b[32m0\u001b[39m,\n",
       "  \u001b[32m0\u001b[39m,\n",
       "  \u001b[32m0\u001b[39m,\n",
       "  \u001b[32m0\u001b[39m,\n",
       "  \u001b[32m0\u001b[39m,\n",
       "  \u001b[32m0\u001b[39m,\n",
       "  \u001b[32m0\u001b[39m,\n",
       "  \u001b[32m0\u001b[39m,\n",
       "..."
      ]
     },
     "execution_count": 5,
     "metadata": {},
     "output_type": "execute_result"
    }
   ],
   "source": [
    "// Load training and test features\n",
    "val X_train_df = Read.csv(Paths.get(\"data/X_train.csv\"))\n",
    "val X_test_df = Read.csv(Paths.get(\"data/X_test.csv\"))\n",
    "\n",
    "// Load training and test labels (as 1D Int arrays)\n",
    "val Y_train_df = Read.csv(Paths.get(\"data/Y_train.csv\"))\n",
    "val Y_test_df = Read.csv(Paths.get(\"data/Y_test.csv\"))\n",
    "\n",
    "// Convert DataFrames to arrays\n",
    "val X_train_array: Array[Array[Double]] = X_train_df.toArray\n",
    "val X_test_array: Array[Array[Double]] = X_test_df.toArray\n",
    "\n",
    "val Y_train_array: Array[Int] = Y_train_df.toArray.map(_.head.toInt)\n",
    "val Y_test_array: Array[Int] = Y_test_df.toArray.map(_.head.toInt)"
   ]
  },
  {
   "cell_type": "code",
   "execution_count": 8,
   "id": "17fc11e6-7eaa-4248-b671-739a3987490d",
   "metadata": {},
   "outputs": [
    {
     "data": {
      "text/plain": [
       "\u001b[32mimport \u001b[39m\u001b[36msmile.classification.SVM\u001b[39m\n",
       "\u001b[32mimport \u001b[39m\u001b[36msmile.math.kernel.GaussianKernel\u001b[39m\n",
       "\u001b[32mimport \u001b[39m\u001b[36msmile.validation._\u001b[39m"
      ]
     },
     "execution_count": 8,
     "metadata": {},
     "output_type": "execute_result"
    }
   ],
   "source": [
    "import smile.classification.SVM\n",
    "import smile.math.kernel.GaussianKernel\n",
    "import smile.validation._"
   ]
  },
  {
   "cell_type": "code",
   "execution_count": 9,
   "id": "88daa06f-725c-4705-96fc-b72f97010a8f",
   "metadata": {},
   "outputs": [
    {
     "data": {
      "text/plain": [
       "\u001b[32mimport \u001b[39m\u001b[36msmile.classification.SVM\u001b[39m\n",
       "\u001b[32mimport \u001b[39m\u001b[36msmile.math.kernel.GaussianKernel\u001b[39m\n",
       "\u001b[36mkernel\u001b[39m: \u001b[32mGaussianKernel\u001b[39m = GaussianKernel(0.1000)\n",
       "\u001b[36mC\u001b[39m: \u001b[32mDouble\u001b[39m = \u001b[32m1.0\u001b[39m\n",
       "defined \u001b[32mtype\u001b[39m \u001b[36mSVMClassifier\u001b[39m"
      ]
     },
     "execution_count": 9,
     "metadata": {},
     "output_type": "execute_result"
    }
   ],
   "source": [
    "import smile.classification.SVM\n",
    "import smile.math.kernel.GaussianKernel\n",
    "\n",
    "// Define a kernel and regularization parameter\n",
    "val kernel = new GaussianKernel(0.1)\n",
    "val C = 1.0\n",
    "\n",
    "// Define the type — SVM[Double] — but do not create it yet\n",
    "type SVMClassifier = SVM[Double]\n"
   ]
  },
  {
   "cell_type": "code",
   "execution_count": 9,
   "id": "1d813b0e-0428-4048-9c99-f626476867c8",
   "metadata": {},
   "outputs": [
    {
     "name": "stderr",
     "output_type": "stream",
     "text": [
      "cmd10.sc:14: type mismatch;\n",
      " found   : Array[Array[Double]]\n",
      " required: smile.math.kernel.MercerKernel[?]\n",
      "val svm = new SVM(X_train, Y_train, new GaussianKernel(0.1), 1.0)\n",
      "                  ^\n",
      "cmd10.sc:14: type mismatch;\n",
      " found   : Array[Double]\n",
      " required: Array[? with Object]\n",
      "Note: Double >: ? with Object, but class Array is invariant in type T.\n",
      "You may wish to investigate a wildcard type such as `_ >: ? with Object`. (SLS 3.2.10)\n",
      "val svm = new SVM(X_train, Y_train, new GaussianKernel(0.1), 1.0)\n",
      "                           ^\n",
      "cmd10.sc:14: type mismatch;\n",
      " found   : smile.math.kernel.GaussianKernel\n",
      " required: Array[Double]\n",
      "val svm = new SVM(X_train, Y_train, new GaussianKernel(0.1), 1.0)\n",
      "                                    ^\n",
      "Compilation Failed"
     ]
    }
   ],
   "source": [
    "import smile.io.Read\n",
    "import smile.classification.SVM\n",
    "import smile.math.kernel.GaussianKernel\n",
    "import java.nio.file.Paths\n",
    "\n",
    "// Load training data\n",
    "val X_train: Array[Array[Double]] =\n",
    "  Read.csv(Paths.get(\"data/X_train.csv\")).toArray\n",
    "\n",
    "val Y_train: Array[Double] =\n",
    "  Read.csv(Paths.get(\"data/Y_train.csv\")).toArray.map(_.head.toDouble)\n",
    "\n",
    "// Train binary SVM classifier\n",
    "val svm = new SVM(X_train, Y_train, new GaussianKernel(0.1), 1.0)\n",
    "\n",
    "println(\"✅ SVM model trained successfully.\")"
   ]
  },
  {
   "cell_type": "code",
   "execution_count": null,
   "id": "7ba3949e-641b-44eb-a5a7-c2f5dfb92f63",
   "metadata": {},
   "outputs": [],
   "source": []
  }
 ],
 "metadata": {
  "kernelspec": {
   "display_name": "Scala",
   "language": "scala",
   "name": "scala"
  },
  "language_info": {
   "codemirror_mode": "text/x-scala",
   "file_extension": ".sc",
   "mimetype": "text/x-scala",
   "name": "scala",
   "nbconvert_exporter": "script",
   "version": "2.13.16"
  }
 },
 "nbformat": 4,
 "nbformat_minor": 5
}
